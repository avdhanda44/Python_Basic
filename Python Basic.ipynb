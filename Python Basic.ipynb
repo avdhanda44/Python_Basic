{
 "cells": [
  {
   "cell_type": "markdown",
   "id": "3d19e0c9",
   "metadata": {},
   "source": [
    "# Intoduction to Python basic: \n",
    "- STATEMENT or EEPRESSIONS\n",
    "- Error \n",
    "- PYTHON DATA TYPES | Type casting\n",
    "- MATHEMATICAL OPERATOR\n",
    "- LOGICAL OPERATOR\n",
    "- TERNARY OPERATOR\n",
    "- VARIABLES\n",
    "- STRINGS | Indexing | Slicing | Escape Sequences | Formatted String | Useful String Method\n",
    "- NUMBERS | Working with numbers\n",
    "- OUTPUT FORMATTING"
   ]
  },
  {
   "cell_type": "markdown",
   "id": "aa362fd6",
   "metadata": {},
   "source": [
    "## STATEMENT OR EXPRESSIONS:\n",
    "It an instruction computer will run or execute"
   ]
  },
  {
   "cell_type": "code",
   "execution_count": 1,
   "id": "d904bd64",
   "metadata": {},
   "outputs": [
    {
     "name": "stdout",
     "output_type": "stream",
     "text": [
      "Hello Python\n"
     ]
    }
   ],
   "source": [
    "# value in pryntesis is called arguments\n",
    "print('Hello Python')"
   ]
  },
  {
   "cell_type": "markdown",
   "id": "f34cf79e",
   "metadata": {},
   "source": [
    "## ERROR : \n",
    "#### Syntactic Error:\n",
    "    When Python Doesn't understand for your code\n",
    "    \n",
    "#### Semantic Error:\n",
    "    When your logic is wronge"
   ]
  },
  {
   "cell_type": "markdown",
   "id": "de7f2925",
   "metadata": {},
   "source": [
    "## PYTHON DATA TYPES"
   ]
  },
  {
   "cell_type": "code",
   "execution_count": 2,
   "id": "ab995e5c",
   "metadata": {},
   "outputs": [
    {
     "data": {
      "text/plain": [
       "int"
      ]
     },
     "execution_count": 2,
     "metadata": {},
     "output_type": "execute_result"
    }
   ],
   "source": [
    "type(10)"
   ]
  },
  {
   "cell_type": "code",
   "execution_count": 3,
   "id": "faf0126d",
   "metadata": {},
   "outputs": [
    {
     "data": {
      "text/plain": [
       "float"
      ]
     },
     "execution_count": 3,
     "metadata": {},
     "output_type": "execute_result"
    }
   ],
   "source": [
    "type(10.11)"
   ]
  },
  {
   "cell_type": "code",
   "execution_count": 4,
   "id": "3910e7b2",
   "metadata": {},
   "outputs": [
    {
     "data": {
      "text/plain": [
       "str"
      ]
     },
     "execution_count": 4,
     "metadata": {},
     "output_type": "execute_result"
    }
   ],
   "source": [
    "type(\"Hello Python\")"
   ]
  },
  {
   "cell_type": "code",
   "execution_count": 5,
   "id": "9f773767",
   "metadata": {},
   "outputs": [
    {
     "data": {
      "text/plain": [
       "bool"
      ]
     },
     "execution_count": 5,
     "metadata": {},
     "output_type": "execute_result"
    }
   ],
   "source": [
    "type(True)"
   ]
  },
  {
   "cell_type": "markdown",
   "id": "08b37ffc",
   "metadata": {},
   "source": [
    "### Type casting: \n",
    "Changing the type of the expressions"
   ]
  },
  {
   "cell_type": "code",
   "execution_count": 6,
   "id": "75e8b7ef",
   "metadata": {},
   "outputs": [
    {
     "data": {
      "text/plain": [
       "2.0"
      ]
     },
     "execution_count": 6,
     "metadata": {},
     "output_type": "execute_result"
    }
   ],
   "source": [
    "float(2)"
   ]
  },
  {
   "cell_type": "code",
   "execution_count": 7,
   "id": "c639983f",
   "metadata": {},
   "outputs": [
    {
     "data": {
      "text/plain": [
       "1"
      ]
     },
     "execution_count": 7,
     "metadata": {},
     "output_type": "execute_result"
    }
   ],
   "source": [
    "int('1')"
   ]
  },
  {
   "cell_type": "code",
   "execution_count": 8,
   "id": "48f031c5",
   "metadata": {},
   "outputs": [
    {
     "data": {
      "text/plain": [
       "1"
      ]
     },
     "execution_count": 8,
     "metadata": {},
     "output_type": "execute_result"
    }
   ],
   "source": [
    "int(True)"
   ]
  },
  {
   "cell_type": "markdown",
   "id": "2677daea",
   "metadata": {},
   "source": [
    "## MATHEMATICAL OPERATION"
   ]
  },
  {
   "cell_type": "code",
   "execution_count": 9,
   "id": "9a732858",
   "metadata": {},
   "outputs": [
    {
     "name": "stdout",
     "output_type": "stream",
     "text": [
      "13\n",
      "7\n",
      "30\n",
      "3.3333333333333335\n",
      "3\n",
      "1\n",
      "1000\n"
     ]
    }
   ],
   "source": [
    "# Nummbers are operands\n",
    "# +, -, *, .. these are operators\n",
    "x = 10 + 3\n",
    "print(x)\n",
    "x = 10 - 3\n",
    "print(x)\n",
    "x = 10 * 3 \n",
    "print(x)\n",
    "x = 10 / 3\n",
    "print(x)\n",
    "x = 10 // 3\n",
    "print(x)\n",
    "x = 10 % 3\n",
    "print(x)\n",
    "x = 10 ** 3\n",
    "print(x)"
   ]
  },
  {
   "cell_type": "code",
   "execution_count": 10,
   "id": "22e5f81e",
   "metadata": {},
   "outputs": [
    {
     "name": "stdout",
     "output_type": "stream",
     "text": [
      "1002\n"
     ]
    }
   ],
   "source": [
    "x = x + 1\n",
    "x += 1\n",
    "print(x)"
   ]
  },
  {
   "cell_type": "markdown",
   "id": "cea9cce4",
   "metadata": {},
   "source": [
    "## LOGICAL OPERATOR"
   ]
  },
  {
   "cell_type": "code",
   "execution_count": 11,
   "id": "660a6ac2",
   "metadata": {},
   "outputs": [
    {
     "name": "stdout",
     "output_type": "stream",
     "text": [
      "Eligible\n"
     ]
    }
   ],
   "source": [
    "#and or not\n",
    "name = \"Mosh\"\n",
    "if not name.strip():\n",
    "    print(\"name is empty\")\n",
    "    \n",
    "age = 22    \n",
    "if age >= 18 and age < 65:\n",
    "#18 <= age < 65\n",
    "    print(\"Eligible\")"
   ]
  },
  {
   "cell_type": "markdown",
   "id": "36050af3",
   "metadata": {},
   "source": [
    "## TERNARY OPERATOR"
   ]
  },
  {
   "cell_type": "code",
   "execution_count": 12,
   "id": "f9789755",
   "metadata": {},
   "outputs": [
    {
     "name": "stdout",
     "output_type": "stream",
     "text": [
      "Eligible\n"
     ]
    }
   ],
   "source": [
    "age = 45\n",
    "message = \"Eligible\" if age >= 18 else \"Not eligible\"\n",
    "print(message)"
   ]
  },
  {
   "cell_type": "markdown",
   "id": "4b2b7538",
   "metadata": {},
   "source": [
    "## VARIABLES:\n",
    "    Use to store values"
   ]
  },
  {
   "cell_type": "code",
   "execution_count": 13,
   "id": "52020fd6",
   "metadata": {},
   "outputs": [
    {
     "name": "stdout",
     "output_type": "stream",
     "text": [
      "10\n"
     ]
    }
   ],
   "source": [
    "my_variable = 10\n",
    "print(my_variable)"
   ]
  },
  {
   "cell_type": "code",
   "execution_count": 14,
   "id": "cef426d8",
   "metadata": {},
   "outputs": [
    {
     "name": "stdout",
     "output_type": "stream",
     "text": [
      "20\n"
     ]
    }
   ],
   "source": [
    "x = 10\n",
    "x = 20\n",
    "print(x)"
   ]
  },
  {
   "cell_type": "code",
   "execution_count": 15,
   "id": "8ef70984",
   "metadata": {},
   "outputs": [
    {
     "name": "stdout",
     "output_type": "stream",
     "text": [
      "10.0\n"
     ]
    }
   ],
   "source": [
    "y = x / 2\n",
    "print(y)"
   ]
  },
  {
   "cell_type": "markdown",
   "id": "9e80e179",
   "metadata": {},
   "source": [
    "## STRINGS:\n",
    "    It is a sequence of characters contained within two quotes."
   ]
  },
  {
   "cell_type": "code",
   "execution_count": 16,
   "id": "6c4a0fe3",
   "metadata": {},
   "outputs": [
    {
     "data": {
      "text/plain": [
       "'Michael Jackson'"
      ]
     },
     "execution_count": 16,
     "metadata": {},
     "output_type": "execute_result"
    }
   ],
   "source": [
    "\"Michael Jackson\""
   ]
  },
  {
   "cell_type": "code",
   "execution_count": 17,
   "id": "480b485d",
   "metadata": {},
   "outputs": [
    {
     "data": {
      "text/plain": [
       "'@#1_]&*^0'"
      ]
     },
     "execution_count": 17,
     "metadata": {},
     "output_type": "execute_result"
    }
   ],
   "source": [
    "## A string can also be special characters:\n",
    "'@#1_]&*^0'"
   ]
  },
  {
   "cell_type": "code",
   "execution_count": 18,
   "id": "a1055205",
   "metadata": {},
   "outputs": [
    {
     "data": {
      "text/plain": [
       "'   -12'"
      ]
     },
     "execution_count": 18,
     "metadata": {},
     "output_type": "execute_result"
    }
   ],
   "source": [
    "##Can be spaces or digits.\n",
    "'   -12'"
   ]
  },
  {
   "cell_type": "markdown",
   "id": "b3a6184e",
   "metadata": {},
   "source": [
    "### String: Indexing"
   ]
  },
  {
   "cell_type": "code",
   "execution_count": 19,
   "id": "03c477a9",
   "metadata": {},
   "outputs": [],
   "source": [
    "Name = \"Michael Jackson\""
   ]
  },
  {
   "cell_type": "code",
   "execution_count": 20,
   "id": "bc72b1f0",
   "metadata": {},
   "outputs": [
    {
     "data": {
      "text/plain": [
       "'Michael Jackson'"
      ]
     },
     "execution_count": 20,
     "metadata": {},
     "output_type": "execute_result"
    }
   ],
   "source": [
    "# To print full string\n",
    "Name[:]"
   ]
  },
  {
   "cell_type": "code",
   "execution_count": 21,
   "id": "a6ef8951",
   "metadata": {},
   "outputs": [
    {
     "data": {
      "text/plain": [
       "'Michael Jackson'"
      ]
     },
     "execution_count": 21,
     "metadata": {},
     "output_type": "execute_result"
    }
   ],
   "source": [
    "# To print full string\n",
    "Name[0:]"
   ]
  },
  {
   "cell_type": "code",
   "execution_count": 22,
   "id": "ecd66a7a",
   "metadata": {},
   "outputs": [
    {
     "data": {
      "text/plain": [
       "'M'"
      ]
     },
     "execution_count": 22,
     "metadata": {},
     "output_type": "execute_result"
    }
   ],
   "source": [
    "# 1st element\n",
    "Name[0]"
   ]
  },
  {
   "cell_type": "code",
   "execution_count": 23,
   "id": "b987abb5",
   "metadata": {},
   "outputs": [
    {
     "data": {
      "text/plain": [
       "'n'"
      ]
     },
     "execution_count": 23,
     "metadata": {},
     "output_type": "execute_result"
    }
   ],
   "source": [
    "# Negative indexing\n",
    "Name[-1]"
   ]
  },
  {
   "cell_type": "code",
   "execution_count": 24,
   "id": "930f7552",
   "metadata": {},
   "outputs": [
    {
     "data": {
      "text/plain": [
       "'Jackson'"
      ]
     },
     "execution_count": 24,
     "metadata": {},
     "output_type": "execute_result"
    }
   ],
   "source": [
    "Name[-7:]"
   ]
  },
  {
   "cell_type": "markdown",
   "id": "659267a5",
   "metadata": {},
   "source": [
    "### String: Slicing"
   ]
  },
  {
   "cell_type": "code",
   "execution_count": 25,
   "id": "462ce976",
   "metadata": {},
   "outputs": [
    {
     "data": {
      "text/plain": [
       "'ich'"
      ]
     },
     "execution_count": 25,
     "metadata": {},
     "output_type": "execute_result"
    }
   ],
   "source": [
    "Name[1:4]"
   ]
  },
  {
   "cell_type": "code",
   "execution_count": 26,
   "id": "ac492cf4",
   "metadata": {},
   "outputs": [
    {
     "data": {
      "text/plain": [
       "'Micha'"
      ]
     },
     "execution_count": 26,
     "metadata": {},
     "output_type": "execute_result"
    }
   ],
   "source": [
    "Name[:5]"
   ]
  },
  {
   "cell_type": "code",
   "execution_count": 27,
   "id": "3808a109",
   "metadata": {},
   "outputs": [
    {
     "data": {
      "text/plain": [
       "'McalJcsn'"
      ]
     },
     "execution_count": 27,
     "metadata": {},
     "output_type": "execute_result"
    }
   ],
   "source": [
    "#Every 2nd element\n",
    "Name[::2]"
   ]
  },
  {
   "cell_type": "code",
   "execution_count": 28,
   "id": "0b1df73d",
   "metadata": {},
   "outputs": [
    {
     "data": {
      "text/plain": [
       "15"
      ]
     },
     "execution_count": 28,
     "metadata": {},
     "output_type": "execute_result"
    }
   ],
   "source": [
    "#to know the length of the string\n",
    "len(Name)"
   ]
  },
  {
   "cell_type": "code",
   "execution_count": 29,
   "id": "2249cb0b",
   "metadata": {},
   "outputs": [
    {
     "data": {
      "text/plain": [
       "'Michael JacksonMichael JacksonMichael Jackson'"
      ]
     },
     "execution_count": 29,
     "metadata": {},
     "output_type": "execute_result"
    }
   ],
   "source": [
    "3 * Name"
   ]
  },
  {
   "cell_type": "markdown",
   "id": "d6e9d970",
   "metadata": {},
   "source": [
    "### String:  Escape Sequences:\n",
    "    \\ are meant to proceed escape sequences\n",
    "    escape sequences are strings that are difficult to input"
   ]
  },
  {
   "cell_type": "code",
   "execution_count": 30,
   "id": "c4599539",
   "metadata": {},
   "outputs": [
    {
     "name": "stdout",
     "output_type": "stream",
     "text": [
      "Michael\n",
      " Jackson\n"
     ]
    }
   ],
   "source": [
    "#\\n = new line\n",
    "print('Michael\\n Jackson')"
   ]
  },
  {
   "cell_type": "code",
   "execution_count": 31,
   "id": "86905a4e",
   "metadata": {},
   "outputs": [
    {
     "name": "stdout",
     "output_type": "stream",
     "text": [
      "Michael\\ Jackson\n"
     ]
    }
   ],
   "source": [
    "# \\\\ = \\\n",
    "print('Michael\\\\ Jackson')"
   ]
  },
  {
   "cell_type": "code",
   "execution_count": 32,
   "id": "74421746",
   "metadata": {},
   "outputs": [
    {
     "name": "stdout",
     "output_type": "stream",
     "text": [
      "Michael\t Jackson\n"
     ]
    }
   ],
   "source": [
    "#\\t = tab\n",
    "print('Michael\\t Jackson')"
   ]
  },
  {
   "cell_type": "markdown",
   "id": "74969b76",
   "metadata": {},
   "source": [
    "### String:  Formatted String"
   ]
  },
  {
   "cell_type": "code",
   "execution_count": 33,
   "id": "33d25874",
   "metadata": {},
   "outputs": [
    {
     "name": "stdout",
     "output_type": "stream",
     "text": [
      "Mosh Hamedani\n"
     ]
    }
   ],
   "source": [
    "#Concatenation\n",
    "first = \"Mosh\"\n",
    "last = \"Hamedani\"\n",
    "full = first + \" \" + last\n",
    "print(full)"
   ]
  },
  {
   "cell_type": "code",
   "execution_count": 34,
   "id": "465e313b",
   "metadata": {},
   "outputs": [
    {
     "name": "stdout",
     "output_type": "stream",
     "text": [
      "Mosh Hamedani\n"
     ]
    }
   ],
   "source": [
    "full1 = f\"{first} {last}\"\n",
    "print(full1)"
   ]
  },
  {
   "cell_type": "markdown",
   "id": "4f4377c1",
   "metadata": {},
   "source": [
    "### String: Useful String method"
   ]
  },
  {
   "cell_type": "code",
   "execution_count": 35,
   "id": "33f0fa92",
   "metadata": {},
   "outputs": [
    {
     "name": "stdout",
     "output_type": "stream",
     "text": [
      "   PYTHON PROGAMMING    \n",
      "   python progamming    \n",
      "   Python Progamming    \n",
      "Python Progamming\n",
      "   Python Progamming\n",
      "Python Progamming    \n",
      "-1\n",
      "10\n",
      "   -ython -rogamming    \n",
      "True\n",
      "False\n"
     ]
    }
   ],
   "source": [
    "course = \"   Python Progamming    \"\n",
    "print(course.upper())\n",
    "print(course.lower())\n",
    "print(course.title())\n",
    "print(course.strip())\n",
    "print(course.rstrip())\n",
    "print(course.lstrip())\n",
    "print(course.find(\"pro\"))\n",
    "print(course.find(\"Pro\"))\n",
    "print(course.replace(\"P\",\"-\"))\n",
    "print(\"Progamming\" in course)\n",
    "print(\"Progamming\" not in course)\n"
   ]
  },
  {
   "cell_type": "markdown",
   "id": "944d0965",
   "metadata": {},
   "source": [
    "## NUMBERS"
   ]
  },
  {
   "cell_type": "code",
   "execution_count": 36,
   "id": "99132a88",
   "metadata": {},
   "outputs": [
    {
     "name": "stdout",
     "output_type": "stream",
     "text": [
      "2\n",
      "0b10\n",
      "300\n",
      "0x12c\n",
      "(1+2j)\n"
     ]
    }
   ],
   "source": [
    "x = 10\n",
    "x = 0b10\n",
    "print(x)\n",
    "print(bin(x))\n",
    "\n",
    "x = 0x12c\n",
    "print(x)\n",
    "print(hex(x))\n",
    "\n",
    "#complex Number\n",
    "#a + bi\n",
    "\n",
    "x = 1 + 2j\n",
    "print(x)"
   ]
  },
  {
   "cell_type": "markdown",
   "id": "08e4f138",
   "metadata": {},
   "source": [
    "### Numbers: Working with Numbers"
   ]
  },
  {
   "cell_type": "code",
   "execution_count": 37,
   "id": "7472d542",
   "metadata": {},
   "outputs": [
    {
     "name": "stdout",
     "output_type": "stream",
     "text": [
      "-3\n",
      "3.14\n",
      "-4\n"
     ]
    }
   ],
   "source": [
    "import math\n",
    "# python 3 math module\n",
    "#for all the function and module\n",
    "\n",
    "PI = -3.14\n",
    "print(round(PI))\n",
    "print(abs(PI))\n",
    "print(math.floor(PI))\n",
    "\n",
    "#For more funtion\n",
    "# Python3 built in function "
   ]
  },
  {
   "cell_type": "markdown",
   "id": "2b771eee",
   "metadata": {},
   "source": [
    "## OUTPUT FORMATTING"
   ]
  },
  {
   "cell_type": "code",
   "execution_count": 38,
   "id": "8b49826a",
   "metadata": {},
   "outputs": [
    {
     "name": "stdout",
     "output_type": "stream",
     "text": [
      "1 2 3 4\n",
      "1*2*3*4\n",
      "1#2#3#4&"
     ]
    }
   ],
   "source": [
    "print(1,2,3,4)\n",
    "print(1,2,3,4, sep = '*')\n",
    "print(1,2,3,4, sep =\"#\", end ='&')"
   ]
  },
  {
   "cell_type": "code",
   "execution_count": 39,
   "id": "fea49ebd",
   "metadata": {},
   "outputs": [
    {
     "name": "stdout",
     "output_type": "stream",
     "text": [
      "I love bread and butter\n"
     ]
    }
   ],
   "source": [
    "print('I love {0} and {1}'.format('bread','butter'))"
   ]
  }
 ],
 "metadata": {
  "kernelspec": {
   "display_name": "Python 3 (ipykernel)",
   "language": "python",
   "name": "python3"
  },
  "language_info": {
   "codemirror_mode": {
    "name": "ipython",
    "version": 3
   },
   "file_extension": ".py",
   "mimetype": "text/x-python",
   "name": "python",
   "nbconvert_exporter": "python",
   "pygments_lexer": "ipython3",
   "version": "3.9.7"
  }
 },
 "nbformat": 4,
 "nbformat_minor": 5
}
